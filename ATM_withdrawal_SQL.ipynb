{
  "nbformat": 4,
  "nbformat_minor": 0,
  "metadata": {
    "colab": {
      "provenance": []
    },
    "kernelspec": {
      "name": "python3",
      "display_name": "Python 3"
    },
    "language_info": {
      "name": "python"
    }
  },
  "cells": [
    {
      "cell_type": "code",
      "execution_count": null,
      "metadata": {
        "id": "ORetRC84M2V6"
      },
      "outputs": [],
      "source": [
        "\"\"\"\n",
        "#Creating table name customer details and Debit_deatails which contains required columns\n",
        "CREATE TABLE CUSTOMER_DETAILS(\n",
        "ACC_NO INT PRIMARY KEY,\n",
        "NAME VARCHAR(75) NOT NULL,\n",
        "ADDRESS VARCHAR(300) NOT NULL,\n",
        "BALANCE NUMERIC(20,2),\n",
        "PH_NO VARCHAR(15),\n",
        "EMAIL_ID VARCHAR(50),\n",
        "BRANCH_CODE VARCHAR(20)\n",
        ");\n",
        "\n",
        "CREATE TABLE DEBIT_DETAILS(\n",
        "DEBIT_CARD_NO VARCHAR(25) PRIMARY KEY,\n",
        "ACC_NO INT NOT NULL,\n",
        "CVV VARCHAR(3) NOT NULL,\n",
        "NAME VARCHAR(75),\n",
        "EXPIRY_YEAR INT,\n",
        "EXPIRY_MONTH INT\n",
        ");\n",
        "\n",
        "#Inserting some values to the tables.\n",
        "\n",
        "INSERT INTO CUSTOMER_DETAILS(\n",
        "ACC_NO, NAME, ADDRESS, BALANCEC, PH_NO, EMAIL_ID, BRANCH_CODE) \n",
        "VALUES (1234567891, 'LARA', 'NO:5, NEWYORK, USA', 15000.45, '2345234567', 'lara@gmail.com',  'ABC4074'),\n",
        "(1234567892, 'ROBERT', 'NO:7, CALIFORNIA, USA', 250000.23, '5675672324', 'robert@gmail.com', 'ABC4074');\n",
        "\n",
        "INSERT INTO DEBIT_DETAILS(\n",
        "DEBIT_CARD_NO, ACC_NO, CVV, NAME, EXPIRY_YEAR, EXPIRY_MONTH)\n",
        "VALUES ('1234567891234567', 1234567891, '345', 'LARA', 2043, 08),\n",
        "('1234567891234568', 1234567892, '456', 'ROBERT', 2045, 11);\n",
        "\n",
        "#Creating table Transaction_log to store the transaction details\n",
        "\n",
        "CREATE TABLE TRANSACTION_LOG(\n",
        "TRANSACTION_TIME TIMESTAMP NOT NULL DEFAULT NOW(),\n",
        "ACC_NO INT NOT NULL,\n",
        "TRANSACTION_TYPE VARCHAR(30) NOT NULL,\n",
        "TRANSACTION_ID SERIAL PRIMARY KEY\n",
        ");\n",
        "\n",
        "#Creating a trigger function named withdrawal_log \n",
        "\n",
        "CREATE FUNCTION WITHDRAWAL_LOG() RETURNS TRIGGER AS $$\n",
        "BEGIN\n",
        "INSERT INTO TRANSACTION_LOG (TRANSACTION_TIME, ACC_NO, TRANSACTION_TYPE, WITHDRAWAL_AMOUNT)\n",
        "VALUES (NOW(), NEW.ACC_NO, 'WITHDRAWAL', OLD.BALANCE - NEW.BALANCE);\n",
        "RETURN NEW;\n",
        "END;\n",
        "$$ LANGUAGE PLPGSQL;\n",
        "\n",
        "#Creating trigger named Bank_log to call the function withdrawal_log\n",
        "\n",
        "CREATE TRIGGER BANK_LOG AFTER UPDATE ON CUSTOMER_DETAILS\n",
        "FOR EACH ROW EXECUTE PROCEDURE WITHDRAWAL_LOG();\n",
        "\"\"\"\n"
      ]
    }
  ]
}